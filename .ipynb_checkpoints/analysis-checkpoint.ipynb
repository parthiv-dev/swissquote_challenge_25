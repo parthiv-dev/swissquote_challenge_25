{
 "cells": [
  {
   "cell_type": "code",
   "execution_count": 2,
   "id": "f228ef25-1bc1-45fb-a8bb-476523908bc0",
   "metadata": {},
   "outputs": [],
   "source": [
    "import yfinance as yf"
   ]
  },
  {
   "cell_type": "code",
   "execution_count": 4,
   "id": "39323276-1152-480c-b332-3ec52d767ac7",
   "metadata": {},
   "outputs": [],
   "source": [
    "tickers = yf.Tickers('SYM GXO AUTO.OL KARN.SW')"
   ]
  },
  {
   "cell_type": "code",
   "execution_count": null,
   "id": "e49518f9-a267-48c6-940f-0fb6e8aeeefa",
   "metadata": {},
   "outputs": [],
   "source": []
  }
 ],
 "metadata": {
  "kernelspec": {
   "display_name": "Python 3 (ipykernel)",
   "language": "python",
   "name": "python3"
  },
  "language_info": {
   "codemirror_mode": {
    "name": "ipython",
    "version": 3
   },
   "file_extension": ".py",
   "mimetype": "text/x-python",
   "name": "python",
   "nbconvert_exporter": "python",
   "pygments_lexer": "ipython3",
   "version": "3.12.9"
  }
 },
 "nbformat": 4,
 "nbformat_minor": 5
}
